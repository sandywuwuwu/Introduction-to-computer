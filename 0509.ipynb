{
  "nbformat": 4,
  "nbformat_minor": 0,
  "metadata": {
    "colab": {
      "name": "0509.ipynb",
      "provenance": [],
      "authorship_tag": "ABX9TyPjs6/ocjOzU0wpFhWGrxOq",
      "include_colab_link": true
    },
    "kernelspec": {
      "name": "python3",
      "display_name": "Python 3"
    },
    "language_info": {
      "name": "python"
    }
  },
  "cells": [
    {
      "cell_type": "markdown",
      "metadata": {
        "id": "view-in-github",
        "colab_type": "text"
      },
      "source": [
        "<a href=\"https://colab.research.google.com/github/sandywuwuwu/Introduction-to-computer/blob/main/0509.ipynb\" target=\"_parent\"><img src=\"https://colab.research.google.com/assets/colab-badge.svg\" alt=\"Open In Colab\"/></a>"
      ]
    },
    {
      "cell_type": "code",
      "execution_count": 1,
      "metadata": {
        "colab": {
          "base_uri": "https://localhost:8080/"
        },
        "id": "FXQVv2Rp7kYJ",
        "outputId": "c67deaaf-805f-4929-fb8b-4e0dfb0294e2"
      },
      "outputs": [
        {
          "output_type": "stream",
          "name": "stdout",
          "text": [
            "123\n"
          ]
        }
      ],
      "source": [
        "print('123')"
      ]
    },
    {
      "cell_type": "code",
      "source": [
        "temp=float(input('請輸入你的體溫'))\n",
        "if temp>=37.5:\n",
        "   print('體溫過高!')\n",
        "elif  temp>=37 and temp<37.4:\n",
        "   print('體溫略高!')\n",
        "elif  temp>=34 and temp<=36.9:\n",
        "   print('體溫正常!')  \n",
        "else:\n",
        "  print('體溫異常，請重新量測!')\n",
        "  "
      ],
      "metadata": {
        "colab": {
          "base_uri": "https://localhost:8080/"
        },
        "id": "HurN_0jy77ih",
        "outputId": "a2545017-b9f0-4da4-ee54-9ad9c0a09bec"
      },
      "execution_count": 12,
      "outputs": [
        {
          "output_type": "stream",
          "name": "stdout",
          "text": [
            "請輸入你的體溫20\n",
            "體溫異常，請重新量測!\n"
          ]
        }
      ]
    },
    {
      "cell_type": "code",
      "source": [
        "成績=int(input('請輸入成績'))\n",
        "if 成績>=90:\n",
        "   print('A')\n",
        "elif  成績>=80 and 成績<=89:\n",
        "   print('B')\n",
        "elif  成績>=70 and 成績<=79:\n",
        "   print('c')\n",
        "elif  成績>=60 and 成績<=69:\n",
        "   print('D')\n",
        "else:\n",
        "  print('E')"
      ],
      "metadata": {
        "colab": {
          "base_uri": "https://localhost:8080/"
        },
        "id": "RHdNgT2w_hZw",
        "outputId": "d1b637e2-42a9-4e9e-8de2-633c43e6245f"
      },
      "execution_count": 31,
      "outputs": [
        {
          "output_type": "stream",
          "name": "stdout",
          "text": [
            "請輸入成績89\n",
            "B\n"
          ]
        }
      ]
    },
    {
      "cell_type": "code",
      "source": [
        "money=int(input('請輸入購物金額'))\n",
        "if (money >= 10000):\n",
        " if(money >= 100000):\n",
        "  print('八折',money*0.8,end='元\\n')\n",
        " elif(money >= 50000):\n",
        "  print('八五折',money*0.85,end='元\\n')\n",
        " elif(money >= 30000):\n",
        "  print('九折',money*0.9,end='元\\n')\n",
        " elif(money >= 10000):\n",
        "  print('九五折',money*0.95,end='元\\n')\n",
        "else:\n",
        " print('沒打折',money,end='元\\n')\n",
        "\n"
      ],
      "metadata": {
        "colab": {
          "base_uri": "https://localhost:8080/"
        },
        "id": "jmeCEll1ElgX",
        "outputId": "8b9d1591-fb4f-4eb7-91cc-972303aef394"
      },
      "execution_count": 30,
      "outputs": [
        {
          "output_type": "stream",
          "name": "stdout",
          "text": [
            "請輸入購物金額1200000\n",
            "八折 960000.0元\n"
          ]
        }
      ]
    },
    {
      "cell_type": "code",
      "source": [
        "income = int(input('請輸入今年收入淨額:'))\n",
        "if (income>=2000000):\n",
        "  print('付稅金額:',income*0.3,end='元')\n",
        "elif (income>=1000000):\n",
        "  print('付稅金額:',income*0.21,end='元')\n",
        "elif (income>=600000):\n",
        "  print('付稅金額:',income*0.13,end='元')\n",
        "elif (income>=300000):\n",
        "  print('付稅金額:',income*0.06,end='元')\n",
        "else:\n",
        "  print('付稅金額:',0,end='元')\n"
      ],
      "metadata": {
        "colab": {
          "base_uri": "https://localhost:8080/"
        },
        "id": "hcTuL0ULKYro",
        "outputId": "34ff22c0-008b-45c3-c6b1-648a19e1c7f2"
      },
      "execution_count": 62,
      "outputs": [
        {
          "output_type": "stream",
          "name": "stdout",
          "text": [
            "請輸入今年收入淨額:2000000\n",
            "付稅金額: 600000.0元"
          ]
        }
      ]
    },
    {
      "cell_type": "code",
      "source": [
        "month = int(input('請輸入月份'))\n",
        "if 3<=month<=5:\n",
        "  print(str(month)+'月'+'是春天!')\n",
        "elif 6<=month<=8:\n",
        "  print(str(month)+'月'+'是夏天!')\n",
        "elif 9<=month<=11:\n",
        "  print(str(month)+'月'+'是秋天!')\n",
        "elif 1<=month<=2 or month==12:\n",
        "  print(str(month)+'月'+'是冬天!')\n",
        "else:\n",
        "  print('月份不在範圍內!')"
      ],
      "metadata": {
        "colab": {
          "base_uri": "https://localhost:8080/"
        },
        "id": "6dgYnvZ3MQL7",
        "outputId": "afd23e15-020a-467b-e2ed-049de331c15d"
      },
      "execution_count": 40,
      "outputs": [
        {
          "output_type": "stream",
          "name": "stdout",
          "text": [
            "請輸入月份3\n",
            "3月是春天!\n"
          ]
        }
      ]
    }
  ]
}